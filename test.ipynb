{
 "cells": [
  {
   "cell_type": "markdown",
   "metadata": {},
   "source": [
    "# Task 1"
   ]
  },
  {
   "cell_type": "code",
   "execution_count": 20,
   "metadata": {},
   "outputs": [],
   "source": [
    "import sqlite3"
   ]
  },
  {
   "cell_type": "code",
   "execution_count": 23,
   "metadata": {},
   "outputs": [],
   "source": [
    "conn = sqlite3.connect('detilar.db')\n",
    "cursor = conn.cursor()"
   ]
  },
  {
   "cell_type": "code",
   "execution_count": 25,
   "metadata": {},
   "outputs": [],
   "source": [
    "cursor.execute('''\n",
    "    CREATE TABLE Children (\n",
    "        Child_ID INTEGER PRIMARY KEY,\n",
    "        Name TEXT,\n",
    "        Age INTEGER,\n",
    "        Parent_ID INTEGER\n",
    "    )\n",
    "''')\n",
    "\n",
    "\n"
   ]
  },
  {
   "cell_type": "code",
   "execution_count": 27,
   "metadata": {},
   "outputs": [],
   "source": [
    "cursor.execute('''\n",
    "    CREATE TABLE Parents (\n",
    "        Parent_ID INTEGER PRIMARY KEY,\n",
    "        Parent_Name TEXT,\n",
    "        Phone TEXT,\n",
    "        Email TEXT\n",
    "    )\n",
    "''')\n",
    "\n"
   ]
  },
  {
   "cell_type": "code",
   "execution_count": null,
   "metadata": {},
   "outputs": [
    {
     "data": {
      "text/plain": [
       "<sqlite3.Cursor at 0x116093adfc0>"
      ]
     },
     "execution_count": 5,
     "metadata": {},
     "output_type": "execute_result"
    }
   ],
   "source": [
    "cursor.execute('''\n",
    "    CREATE TABLE Groups (\n",
    "        Group_ID INTEGER PRIMARY KEY,\n",
    "        Group_Name TEXT,\n",
    "        Teacher_ID INTEGER\n",
    "    )\n",
    "''')\n",
    "\n"
   ]
  },
  {
   "cell_type": "code",
   "execution_count": null,
   "metadata": {},
   "outputs": [
    {
     "data": {
      "text/plain": [
       "<sqlite3.Cursor at 0x116093adfc0>"
      ]
     },
     "execution_count": 6,
     "metadata": {},
     "output_type": "execute_result"
    }
   ],
   "source": [
    "cursor.execute('''\n",
    "    CREATE TABLE Teachers (\n",
    "        Teacher_ID INTEGER PRIMARY KEY,\n",
    "        Teacher_Name TEXT,\n",
    "        Group_ID INTEGER\n",
    "    )\n",
    "''')"
   ]
  },
  {
   "cell_type": "code",
   "execution_count": 28,
   "metadata": {},
   "outputs": [],
   "source": [
    "# Заполнение таблиц данными\n",
    "children_data = [\n",
    "    (1, 'Гульнар', 4, 1),\n",
    "    (2, 'Ален', 5, 2),\n",
    "    (3, 'Мадина', 3, 3),\n",
    "    (4, 'Настя', 4, 1),\n",
    "    (5, 'Меруерт', 5, 2),\n",
    "    (6, 'Айтмухаммед', 3, 3),\n",
    "    (7, 'Сева', 4, 1),\n",
    "    (8, 'Аят', 5, 2),\n",
    "    (9, 'Ернияз', 3, 3),\n",
    "    (10, 'Айымгуль', 4, 1)\n",
    "]"
   ]
  },
  {
   "cell_type": "code",
   "execution_count": 29,
   "metadata": {},
   "outputs": [],
   "source": [
    "parents_data = [\n",
    "    (1, 'Алихан Кенжеев', '+77773456789', 'alikhan_kenzheev@example.com'),\n",
    "    (2, 'Айнур Мухамеджанов', '+77777654321', 'aynur_mukhamedzhanov@example.com'),\n",
    "    (3, 'Асем Нургалиева', '+777722334455', 'asem_nurgalieva@example.com'),\n",
    "    (4, 'Данияр Сейтжанов', '+777788776655', 'danik777@example.com'),\n",
    "    (5, 'Гульназ Абдрахманова', '+777777889900', 'gulya1@example.com'),\n",
    "    (6, 'Еркежан Темиргалиев', '+777722334455', 'yerkee@example.com'),\n",
    "    (7, 'Зарина Сапарбаева', '+777722334455', 'zarina_03@example.com'),\n",
    "    (8, 'Искандер Жумабаев', '+777722334455', 'iskalove@example.com'),\n",
    "    (9, 'Камила Токтаганова', '+777722334455', 'camatok@example.com'),\n",
    "    (10, 'Лейла Ислямова', '+777722334455', 'leykaa@example.com')\n",
    "]"
   ]
  },
  {
   "cell_type": "code",
   "execution_count": 30,
   "metadata": {},
   "outputs": [],
   "source": [
    "groups_data = [\n",
    "    (1, 'Малыши', 1),\n",
    "    (2, 'Старшая группа', 2),\n",
    "    (3, 'Средняя группа', 3),\n",
    "    (4, 'Старшая группа', 1),\n",
    "    (5, 'Малыши', 2),\n",
    "    (6, 'Средняя группа', 3),\n",
    "    (7, 'Старшая группа', 1),\n",
    "    (8, 'Малыши', 2),\n",
    "    (9, 'Средняя группа', 3),\n",
    "    (10, 'Малыши', 1)\n",
    "]"
   ]
  },
  {
   "cell_type": "code",
   "execution_count": 31,
   "metadata": {},
   "outputs": [],
   "source": [
    "teachers_data = [\n",
    "    (1, 'Айгерим Абдулова', 1),\n",
    "    (2, 'Айжан Абдуллаева', 2),\n",
    "    (3, 'Айнур Абуова', 3),\n",
    "    (4, 'Айсулу Агеева', 1),\n",
    "    (5, 'Айым Азимова', 2),\n",
    "    (6, 'Айгуль Айбулатова', 3),\n",
    "    (7, 'Амина Айтбаева', 1),\n",
    "    (8, 'Аружан Акимова', 2),\n",
    "    (9, 'Асель Актанова', 3),\n",
    "    (10, 'Дана Аманова', 1)\n",
    "]"
   ]
  },
  {
   "cell_type": "code",
   "execution_count": 32,
   "metadata": {},
   "outputs": [],
   "source": [
    "conn = sqlite3.connect('detilar.db')\n",
    "cursor = conn.cursor()"
   ]
  },
  {
   "cell_type": "code",
   "execution_count": 80,
   "metadata": {},
   "outputs": [
    {
     "ename": "ProgrammingError",
     "evalue": "Incorrect number of bindings supplied. The current statement uses 6, and there are 4 supplied.",
     "output_type": "error",
     "traceback": [
      "\u001b[1;31m---------------------------------------------------------------------------\u001b[0m",
      "\u001b[1;31mProgrammingError\u001b[0m                          Traceback (most recent call last)",
      "\u001b[1;32mc:\\Users\\Muha\\Desktop\\programming\\Astana IT University\\python\\ass4Muha\\test.ipynb Cell 13\u001b[0m line \u001b[0;36m1\n\u001b[1;32m----> <a href='vscode-notebook-cell:/c%3A/Users/Muha/Desktop/programming/Astana%20IT%20University/python/ass4Muha/test.ipynb#X15sZmlsZQ%3D%3D?line=0'>1</a>\u001b[0m cursor\u001b[39m.\u001b[39;49mexecutemany(\u001b[39m'\u001b[39;49m\u001b[39mINSERT INTO Children VALUES (?, ?, ?, ?, ?, ?)\u001b[39;49m\u001b[39m'\u001b[39;49m, children_data)\n\u001b[0;32m      <a href='vscode-notebook-cell:/c%3A/Users/Muha/Desktop/programming/Astana%20IT%20University/python/ass4Muha/test.ipynb#X15sZmlsZQ%3D%3D?line=1'>2</a>\u001b[0m cursor\u001b[39m.\u001b[39mexecutemany(\u001b[39m'\u001b[39m\u001b[39mINSERT INTO Parents VALUES (?, ?, ?, ?)\u001b[39m\u001b[39m'\u001b[39m, parents_data)\n\u001b[0;32m      <a href='vscode-notebook-cell:/c%3A/Users/Muha/Desktop/programming/Astana%20IT%20University/python/ass4Muha/test.ipynb#X15sZmlsZQ%3D%3D?line=2'>3</a>\u001b[0m cursor\u001b[39m.\u001b[39mexecutemany(\u001b[39m'\u001b[39m\u001b[39mINSERT INTO Groups VALUES (?, ?, ?)\u001b[39m\u001b[39m'\u001b[39m, groups_data)\n",
      "\u001b[1;31mProgrammingError\u001b[0m: Incorrect number of bindings supplied. The current statement uses 6, and there are 4 supplied."
     ]
    }
   ],
   "source": [
    "cursor.executemany('INSERT INTO Children VALUES (?, ?, ?, ?, ?, ?)', children_data)\n",
    "cursor.executemany('INSERT INTO Parents VALUES (?, ?, ?, ?)', parents_data)\n",
    "cursor.executemany('INSERT INTO Groups VALUES (?, ?, ?)', groups_data)\n",
    "cursor.executemany('INSERT INTO Teachers VALUES (?, ?, ?)', teachers_data)\n"
   ]
  },
  {
   "cell_type": "code",
   "execution_count": 34,
   "metadata": {},
   "outputs": [],
   "source": [
    "conn.commit()\n",
    "# conn.close()"
   ]
  },
  {
   "cell_type": "markdown",
   "metadata": {},
   "source": [
    "# Task 2"
   ]
  },
  {
   "cell_type": "code",
   "execution_count": 35,
   "metadata": {},
   "outputs": [
    {
     "name": "stdout",
     "output_type": "stream",
     "text": [
      "[(2, 'Ален', 5, 2), (5, 'Меруерт', 5, 2), (8, 'Аят', 5, 2)]\n"
     ]
    }
   ],
   "source": [
    "# 2 простых запроса к 1 таблице\n",
    "cursor.execute('SELECT * FROM Children WHERE Age > 4')\n",
    "print(cursor.fetchall())"
   ]
  },
  {
   "cell_type": "code",
   "execution_count": 36,
   "metadata": {},
   "outputs": [
    {
     "name": "stdout",
     "output_type": "stream",
     "text": [
      "[('Гульнар', 4), ('Настя', 4), ('Сева', 4), ('Айымгуль', 4)]\n"
     ]
    }
   ],
   "source": [
    "cursor.execute('SELECT Name, Age FROM Children WHERE Parent_ID = 1')\n",
    "print(cursor.fetchall())"
   ]
  },
  {
   "cell_type": "code",
   "execution_count": 37,
   "metadata": {},
   "outputs": [
    {
     "name": "stdout",
     "output_type": "stream",
     "text": [
      "[('Гульнар', 'Алихан Кенжеев'), ('Ален', 'Айнур Мухамеджанов'), ('Мадина', 'Асем Нургалиева'), ('Настя', 'Алихан Кенжеев'), ('Меруерт', 'Айнур Мухамеджанов'), ('Айтмухаммед', 'Асем Нургалиева'), ('Сева', 'Алихан Кенжеев'), ('Аят', 'Айнур Мухамеджанов'), ('Ернияз', 'Асем Нургалиева'), ('Айымгуль', 'Алихан Кенжеев')]\n"
     ]
    }
   ],
   "source": [
    "# 2 запроса с использованием JOIN к 2 таблицам\n",
    "cursor.execute('SELECT Children.Name, Parents.Parent_Name FROM Children INNER JOIN Parents ON Children.Parent_ID = Parents.Parent_ID')\n",
    "print(cursor.fetchall())\n"
   ]
  },
  {
   "cell_type": "code",
   "execution_count": 38,
   "metadata": {},
   "outputs": [
    {
     "name": "stdout",
     "output_type": "stream",
     "text": [
      "[('Айгерим Абдулова', 'Малыши'), ('Айжан Абдуллаева', 'Старшая группа'), ('Айнур Абуова', 'Средняя группа'), ('Айсулу Агеева', 'Малыши'), ('Айым Азимова', 'Старшая группа'), ('Айгуль Айбулатова', 'Средняя группа'), ('Амина Айтбаева', 'Малыши'), ('Аружан Акимова', 'Старшая группа'), ('Асель Актанова', 'Средняя группа'), ('Дана Аманова', 'Малыши')]\n"
     ]
    }
   ],
   "source": [
    "cursor.execute('SELECT Teachers.Teacher_Name, Groups.Group_Name FROM Teachers INNER JOIN Groups ON Teachers.Group_ID = Groups.Group_ID')\n",
    "print(cursor.fetchall())"
   ]
  },
  {
   "cell_type": "code",
   "execution_count": 50,
   "metadata": {},
   "outputs": [
    {
     "name": "stdout",
     "output_type": "stream",
     "text": [
      "[('Гульнар', 'Алихан Кенжеев', 'Малыши'), ('Ален', 'Айнур Мухамеджанов', 'Старшая группа')]\n"
     ]
    }
   ],
   "source": [
    "# 2 запроса с использованием JOIN к 3 таблицам\n",
    "cursor.execute('SELECT Children.Name, Parents.Parent_Name, Groups.Group_Name FROM Children INNER JOIN Parents ON Children.Parent_ID = Parents.Parent_ID INNER JOIN Groups ON Children.Group_ID = Groups.Group_ID')\n",
    "print(cursor.fetchall())"
   ]
  },
  {
   "cell_type": "code",
   "execution_count": 49,
   "metadata": {},
   "outputs": [
    {
     "name": "stdout",
     "output_type": "stream",
     "text": [
      "[('Гульнар', 'Алихан Кенжеев', 'Айгерим Абдулова'), ('Ален', 'Айнур Мухамеджанов', 'Айжан Абдуллаева'), ('Мадина', 'Асем Нургалиева', 'Айнур Абуова'), ('Настя', 'Алихан Кенжеев', 'Айсулу Агеева'), ('Меруерт', 'Айнур Мухамеджанов', 'Айым Азимова'), ('Айтмухаммед', 'Асем Нургалиева', 'Айгуль Айбулатова')]\n"
     ]
    }
   ],
   "source": [
    "cursor.execute('SELECT Children.Name, Parents.Parent_Name, Teachers.Teacher_Name FROM Children INNER JOIN Parents ON Children.Parent_ID = Parents.Parent_ID INNER JOIN Teachers ON Children.Teacher_ID = Teachers.Teacher_ID')\n",
    "print(cursor.fetchall())\n"
   ]
  },
  {
   "cell_type": "code",
   "execution_count": 54,
   "metadata": {},
   "outputs": [
    {
     "name": "stdout",
     "output_type": "stream",
     "text": [
      "[('Малыши', 40), ('Средняя группа', 30), ('Старшая группа', 30)]\n"
     ]
    }
   ],
   "source": [
    "# 2 запроса с использованием GROUP BY не менее 3 таблиц\n",
    "cursor.execute('SELECT Group_Name, COUNT(Child_ID) FROM Children, Groups GROUP BY Group_Name')\n",
    "print(cursor.fetchall())"
   ]
  },
  {
   "cell_type": "code",
   "execution_count": 56,
   "metadata": {},
   "outputs": [
    {
     "name": "stdout",
     "output_type": "stream",
     "text": [
      "[('Малыши', 4.0), ('Средняя группа', 4.0), ('Старшая группа', 4.0)]\n"
     ]
    }
   ],
   "source": [
    "cursor.execute('SELECT Group_Name, AVG(Age) FROM Children, Groups GROUP BY Group_Name')\n",
    "print(cursor.fetchall())"
   ]
  },
  {
   "cell_type": "code",
   "execution_count": 58,
   "metadata": {},
   "outputs": [
    {
     "name": "stdout",
     "output_type": "stream",
     "text": [
      "[('Малыши', 40), ('Средняя группа', 30), ('Старшая группа', 30)]\n"
     ]
    }
   ],
   "source": [
    "# 2 запроса с использованием HAVING не менее 3 таблиц\n",
    "cursor.execute('SELECT Group_Name, COUNT(Child_ID) FROM Children, Groups GROUP BY Group_Name HAVING COUNT(Child_ID) > 5')\n",
    "print(cursor.fetchall())"
   ]
  },
  {
   "cell_type": "code",
   "execution_count": 59,
   "metadata": {},
   "outputs": [
    {
     "name": "stdout",
     "output_type": "stream",
     "text": [
      "[('Айнур Мухамеджанов', 3), ('Асем Нургалиева', 3)]\n"
     ]
    }
   ],
   "source": [
    "cursor.execute('SELECT Parent_Name, COUNT(Child_ID) FROM Parents INNER JOIN Children ON Parents.Parent_ID = Children.Parent_ID GROUP BY Parent_Name HAVING COUNT(Child_ID) <= 3')\n",
    "print(cursor.fetchall())"
   ]
  },
  {
   "cell_type": "code",
   "execution_count": 61,
   "metadata": {},
   "outputs": [
    {
     "name": "stdout",
     "output_type": "stream",
     "text": [
      "[(2, 'Ален', 5, 2, 2, 2), (5, 'Меруерт', 5, 2, None, 5), (8, 'Аят', 5, 2, None, None), (1, 'Гульнар', 4, 1, 1, 1), (4, 'Настя', 4, 1, None, 4), (7, 'Сева', 4, 1, None, None), (10, 'Айымгуль', 4, 1, None, None), (3, 'Мадина', 3, 3, None, 3), (6, 'Айтмухаммед', 3, 3, None, 6), (9, 'Ернияз', 3, 3, None, None)]\n"
     ]
    }
   ],
   "source": [
    "# 2 запроса с использованием ORDER BY не менее 2 таблиц\n",
    "cursor.execute('SELECT * FROM Children ORDER BY Age DESC')\n",
    "print(cursor.fetchall())\n",
    "\n"
   ]
  },
  {
   "cell_type": "code",
   "execution_count": 62,
   "metadata": {},
   "outputs": [
    {
     "name": "stdout",
     "output_type": "stream",
     "text": [
      "[(2, 'Айнур Мухамеджанов', '+77777654321', 'aynur_mukhamedzhanov@example.com'), (1, 'Алихан Кенжеев', '+77773456789', 'alikhan_kenzheev@example.com'), (3, 'Асем Нургалиева', '+777722334455', 'asem_nurgalieva@example.com'), (5, 'Гульназ Абдрахманова', '+777777889900', 'gulya1@example.com'), (4, 'Данияр Сейтжанов', '+777788776655', 'danik777@example.com'), (6, 'Еркежан Темиргалиев', '+777722334455', 'yerkee@example.com'), (7, 'Зарина Сапарбаева', '+777722334455', 'zarina_03@example.com'), (8, 'Искандер Жумабаев', '+777722334455', 'iskalove@example.com'), (9, 'Камила Токтаганова', '+777722334455', 'camatok@example.com'), (10, 'Лейла Ислямова', '+777722334455', 'leykaa@example.com')]\n"
     ]
    }
   ],
   "source": [
    "cursor.execute('SELECT * FROM Parents ORDER BY Parent_Name ASC')\n",
    "print(cursor.fetchall())"
   ]
  },
  {
   "cell_type": "code",
   "execution_count": 63,
   "metadata": {},
   "outputs": [
    {
     "name": "stdout",
     "output_type": "stream",
     "text": [
      "[(1, 'Гульнар', 4, 1, 1, 1), (2, 'Ален', 5, 2, 2, 2), (4, 'Настя', 4, 1, None, 4), (5, 'Меруерт', 5, 2, None, 5), (7, 'Сева', 4, 1, None, None), (8, 'Аят', 5, 2, None, None), (10, 'Айымгуль', 4, 1, None, None)]\n"
     ]
    }
   ],
   "source": [
    "# 2 запроса с предикатами сравнения\n",
    "cursor.execute('SELECT * FROM Children WHERE Age >= 4')\n",
    "print(cursor.fetchall())"
   ]
  },
  {
   "cell_type": "code",
   "execution_count": 64,
   "metadata": {},
   "outputs": [
    {
     "name": "stdout",
     "output_type": "stream",
     "text": [
      "[(1, 'Алихан Кенжеев', '+77773456789', 'alikhan_kenzheev@example.com'), (2, 'Айнур Мухамеджанов', '+77777654321', 'aynur_mukhamedzhanov@example.com'), (3, 'Асем Нургалиева', '+777722334455', 'asem_nurgalieva@example.com'), (4, 'Данияр Сейтжанов', '+777788776655', 'danik777@example.com'), (5, 'Гульназ Абдрахманова', '+777777889900', 'gulya1@example.com'), (6, 'Еркежан Темиргалиев', '+777722334455', 'yerkee@example.com'), (7, 'Зарина Сапарбаева', '+777722334455', 'zarina_03@example.com'), (8, 'Искандер Жумабаев', '+777722334455', 'iskalove@example.com'), (9, 'Камила Токтаганова', '+777722334455', 'camatok@example.com'), (10, 'Лейла Ислямова', '+777722334455', 'leykaa@example.com')]\n"
     ]
    }
   ],
   "source": [
    "cursor.execute('SELECT * FROM Parents WHERE Phone <> \"+123456789\"')\n",
    "print(cursor.fetchall())"
   ]
  },
  {
   "cell_type": "code",
   "execution_count": 65,
   "metadata": {},
   "outputs": [
    {
     "name": "stdout",
     "output_type": "stream",
     "text": [
      "[(1, 'Гульнар', 4, 1, 1, 1), (2, 'Ален', 5, 2, 2, 2), (4, 'Настя', 4, 1, None, 4), (5, 'Меруерт', 5, 2, None, 5), (7, 'Сева', 4, 1, None, None), (8, 'Аят', 5, 2, None, None), (10, 'Айымгуль', 4, 1, None, None)]\n"
     ]
    }
   ],
   "source": [
    "# 2 запроса с предикатами вхождения IN\n",
    "cursor.execute('SELECT * FROM Children WHERE Age IN (4, 5)')\n",
    "print(cursor.fetchall())"
   ]
  },
  {
   "cell_type": "code",
   "execution_count": 66,
   "metadata": {},
   "outputs": [
    {
     "name": "stdout",
     "output_type": "stream",
     "text": [
      "[(1, 'Алихан Кенжеев', '+77773456789', 'alikhan_kenzheev@example.com'), (3, 'Асем Нургалиева', '+777722334455', 'asem_nurgalieva@example.com'), (5, 'Гульназ Абдрахманова', '+777777889900', 'gulya1@example.com')]\n"
     ]
    }
   ],
   "source": [
    "cursor.execute('SELECT * FROM Parents WHERE Parent_ID IN (1, 3, 5)')\n",
    "print(cursor.fetchall())"
   ]
  },
  {
   "cell_type": "code",
   "execution_count": 67,
   "metadata": {},
   "outputs": [
    {
     "name": "stdout",
     "output_type": "stream",
     "text": [
      "[(1, 'Гульнар', 4, 1, 1, 1), (2, 'Ален', 5, 2, 2, 2)]\n"
     ]
    }
   ],
   "source": [
    "# 2 запроса с предикатами существования и не существования\n",
    "cursor.execute('SELECT * FROM Children WHERE EXISTS (SELECT * FROM Groups WHERE Children.Group_ID = Groups.Group_ID)')\n",
    "print(cursor.fetchall())"
   ]
  },
  {
   "cell_type": "code",
   "execution_count": 68,
   "metadata": {},
   "outputs": [
    {
     "name": "stdout",
     "output_type": "stream",
     "text": [
      "[(4, 'Данияр Сейтжанов', '+777788776655', 'danik777@example.com'), (5, 'Гульназ Абдрахманова', '+777777889900', 'gulya1@example.com'), (6, 'Еркежан Темиргалиев', '+777722334455', 'yerkee@example.com'), (7, 'Зарина Сапарбаева', '+777722334455', 'zarina_03@example.com'), (8, 'Искандер Жумабаев', '+777722334455', 'iskalove@example.com'), (9, 'Камила Токтаганова', '+777722334455', 'camatok@example.com'), (10, 'Лейла Ислямова', '+777722334455', 'leykaa@example.com')]\n"
     ]
    }
   ],
   "source": [
    "cursor.execute('SELECT * FROM Parents WHERE NOT EXISTS (SELECT * FROM Children WHERE Parents.Parent_ID = Children.Parent_ID)')\n",
    "print(cursor.fetchall())"
   ]
  },
  {
   "cell_type": "code",
   "execution_count": 69,
   "metadata": {},
   "outputs": [
    {
     "name": "stdout",
     "output_type": "stream",
     "text": [
      "[(10,)]\n"
     ]
    }
   ],
   "source": [
    "# 2 запроса с агрегатными функциями\n",
    "cursor.execute('SELECT COUNT(*) FROM Children')\n",
    "print(cursor.fetchall())"
   ]
  },
  {
   "cell_type": "code",
   "execution_count": 70,
   "metadata": {},
   "outputs": [
    {
     "name": "stdout",
     "output_type": "stream",
     "text": [
      "[(5,)]\n"
     ]
    }
   ],
   "source": [
    "cursor.execute('SELECT MAX(Age) FROM Children')\n",
    "print(cursor.fetchall())\n"
   ]
  },
  {
   "cell_type": "code",
   "execution_count": 71,
   "metadata": {},
   "outputs": [],
   "source": [
    "# Удаление записи в таблице по запросу\n",
    "cursor.execute('DELETE FROM Children WHERE Child_ID = 10')\n",
    "conn.commit()"
   ]
  },
  {
   "cell_type": "code",
   "execution_count": 75,
   "metadata": {},
   "outputs": [
    {
     "name": "stdout",
     "output_type": "stream",
     "text": [
      "(1, 'Гульнар', 4, 1, 1, 1)\n",
      "(2, 'Ален', 5, 2, 2, 2)\n",
      "(3, 'Мадина', 3, 3, None, 3)\n",
      "(4, 'Настя', 4, 1, None, 4)\n",
      "(5, 'Меруерт', 5, 2, None, 5)\n",
      "(6, 'Айтмухаммед', 3, 3, None, 6)\n",
      "(7, 'Сева', 4, 1, None, None)\n",
      "(8, 'Аят', 5, 2, None, None)\n",
      "(9, 'Ернияз', 3, 3, None, None)\n"
     ]
    }
   ],
   "source": [
    "\n",
    "cursor.execute('SELECT * FROM Children')\n",
    "rows = cursor.fetchall()\n",
    "\n",
    "for row in rows:\n",
    "    print(row)"
   ]
  },
  {
   "cell_type": "code",
   "execution_count": 76,
   "metadata": {},
   "outputs": [],
   "source": [
    "# Изменение записи в таблице по запросу\n",
    "cursor.execute('UPDATE Parents SET Phone = \"+999999999\" WHERE Parent_ID = 2')\n",
    "conn.commit()"
   ]
  },
  {
   "cell_type": "code",
   "execution_count": 77,
   "metadata": {},
   "outputs": [
    {
     "name": "stdout",
     "output_type": "stream",
     "text": [
      "(1, 'Алихан Кенжеев', '+77773456789', 'alikhan_kenzheev@example.com')\n",
      "(2, 'Айнур Мухамеджанов', '+999999999', 'aynur_mukhamedzhanov@example.com')\n",
      "(3, 'Асем Нургалиева', '+777722334455', 'asem_nurgalieva@example.com')\n",
      "(4, 'Данияр Сейтжанов', '+777788776655', 'danik777@example.com')\n",
      "(5, 'Гульназ Абдрахманова', '+777777889900', 'gulya1@example.com')\n",
      "(6, 'Еркежан Темиргалиев', '+777722334455', 'yerkee@example.com')\n",
      "(7, 'Зарина Сапарбаева', '+777722334455', 'zarina_03@example.com')\n",
      "(8, 'Искандер Жумабаев', '+777722334455', 'iskalove@example.com')\n",
      "(9, 'Камила Токтаганова', '+777722334455', 'camatok@example.com')\n",
      "(10, 'Лейла Ислямова', '+777722334455', 'leykaa@example.com')\n"
     ]
    }
   ],
   "source": [
    "\n",
    "cursor.execute('SELECT * FROM Parents')\n",
    "rows = cursor.fetchall()\n",
    "\n",
    "for row in rows:\n",
    "    print(row)"
   ]
  },
  {
   "cell_type": "code",
   "execution_count": null,
   "metadata": {},
   "outputs": [],
   "source": []
  }
 ],
 "metadata": {
  "kernelspec": {
   "display_name": "Python 3",
   "language": "python",
   "name": "python3"
  },
  "language_info": {
   "codemirror_mode": {
    "name": "ipython",
    "version": 3
   },
   "file_extension": ".py",
   "mimetype": "text/x-python",
   "name": "python",
   "nbconvert_exporter": "python",
   "pygments_lexer": "ipython3",
   "version": "3.12.0"
  }
 },
 "nbformat": 4,
 "nbformat_minor": 2
}
